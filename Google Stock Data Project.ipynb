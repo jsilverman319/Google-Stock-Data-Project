{
 "cells": [
  {
   "cell_type": "code",
   "execution_count": 1,
   "id": "128c2040",
   "metadata": {},
   "outputs": [],
   "source": [
    "import pandas as pd\n",
    "import numpy as np\n",
    "import matplotlib.pyplot as plt\n",
    "import seaborn as sns\n",
    "from sklearn.linear_model import LinearRegression\n",
    "from sklearn.model_selection import train_test_split\n",
    "from sklearn import metrics"
   ]
  },
  {
   "cell_type": "markdown",
   "id": "285677fd",
   "metadata": {},
   "source": [
    "Data source: https://www.kaggle.com/datasets/umerhaddii/google-stock-data-2024"
   ]
  },
  {
   "cell_type": "code",
   "execution_count": 2,
   "id": "d462e9ca",
   "metadata": {},
   "outputs": [],
   "source": [
    "df_google = pd.read_csv('/Users/jahansilverman/Documents/CSVs for Data Science Projects/GOOGL_2004-08-01_2024-12-18.csv', \n",
    "                        header=0)"
   ]
  },
  {
   "cell_type": "code",
   "execution_count": 3,
   "id": "fbc2f4d9",
   "metadata": {},
   "outputs": [
    {
     "data": {
      "text/html": [
       "<div>\n",
       "<style scoped>\n",
       "    .dataframe tbody tr th:only-of-type {\n",
       "        vertical-align: middle;\n",
       "    }\n",
       "\n",
       "    .dataframe tbody tr th {\n",
       "        vertical-align: top;\n",
       "    }\n",
       "\n",
       "    .dataframe thead th {\n",
       "        text-align: right;\n",
       "    }\n",
       "</style>\n",
       "<table border=\"1\" class=\"dataframe\">\n",
       "  <thead>\n",
       "    <tr style=\"text-align: right;\">\n",
       "      <th></th>\n",
       "      <th>Date</th>\n",
       "      <th>Open</th>\n",
       "      <th>High</th>\n",
       "      <th>Low</th>\n",
       "      <th>Close</th>\n",
       "      <th>Adj Close</th>\n",
       "      <th>Volume</th>\n",
       "    </tr>\n",
       "  </thead>\n",
       "  <tbody>\n",
       "    <tr>\n",
       "      <th>0</th>\n",
       "      <td>2004-08-19</td>\n",
       "      <td>2.502503</td>\n",
       "      <td>2.604104</td>\n",
       "      <td>2.401401</td>\n",
       "      <td>2.511011</td>\n",
       "      <td>2.501941</td>\n",
       "      <td>893181924</td>\n",
       "    </tr>\n",
       "    <tr>\n",
       "      <th>1</th>\n",
       "      <td>2004-08-20</td>\n",
       "      <td>2.527778</td>\n",
       "      <td>2.729730</td>\n",
       "      <td>2.515015</td>\n",
       "      <td>2.710460</td>\n",
       "      <td>2.700670</td>\n",
       "      <td>456686856</td>\n",
       "    </tr>\n",
       "    <tr>\n",
       "      <th>2</th>\n",
       "      <td>2004-08-23</td>\n",
       "      <td>2.771522</td>\n",
       "      <td>2.839840</td>\n",
       "      <td>2.728979</td>\n",
       "      <td>2.737738</td>\n",
       "      <td>2.727849</td>\n",
       "      <td>365122512</td>\n",
       "    </tr>\n",
       "    <tr>\n",
       "      <th>3</th>\n",
       "      <td>2004-08-24</td>\n",
       "      <td>2.783784</td>\n",
       "      <td>2.792793</td>\n",
       "      <td>2.591842</td>\n",
       "      <td>2.624374</td>\n",
       "      <td>2.614895</td>\n",
       "      <td>304946748</td>\n",
       "    </tr>\n",
       "    <tr>\n",
       "      <th>4</th>\n",
       "      <td>2004-08-25</td>\n",
       "      <td>2.626627</td>\n",
       "      <td>2.702703</td>\n",
       "      <td>2.599600</td>\n",
       "      <td>2.652653</td>\n",
       "      <td>2.643072</td>\n",
       "      <td>183772044</td>\n",
       "    </tr>\n",
       "  </tbody>\n",
       "</table>\n",
       "</div>"
      ],
      "text/plain": [
       "         Date      Open      High       Low     Close  Adj Close     Volume\n",
       "0  2004-08-19  2.502503  2.604104  2.401401  2.511011   2.501941  893181924\n",
       "1  2004-08-20  2.527778  2.729730  2.515015  2.710460   2.700670  456686856\n",
       "2  2004-08-23  2.771522  2.839840  2.728979  2.737738   2.727849  365122512\n",
       "3  2004-08-24  2.783784  2.792793  2.591842  2.624374   2.614895  304946748\n",
       "4  2004-08-25  2.626627  2.702703  2.599600  2.652653   2.643072  183772044"
      ]
     },
     "execution_count": 3,
     "metadata": {},
     "output_type": "execute_result"
    }
   ],
   "source": [
    "df_google.head()"
   ]
  },
  {
   "cell_type": "code",
   "execution_count": 4,
   "id": "6fdf947c",
   "metadata": {},
   "outputs": [
    {
     "data": {
      "text/plain": [
       "Date          object\n",
       "Open         float64\n",
       "High         float64\n",
       "Low          float64\n",
       "Close        float64\n",
       "Adj Close    float64\n",
       "Volume         int64\n",
       "dtype: object"
      ]
     },
     "execution_count": 4,
     "metadata": {},
     "output_type": "execute_result"
    }
   ],
   "source": [
    "df_google.dtypes"
   ]
  },
  {
   "cell_type": "code",
   "execution_count": 5,
   "id": "3a864128",
   "metadata": {},
   "outputs": [],
   "source": [
    "df_google['Date'] = pd.to_datetime(df_google['Date'])"
   ]
  },
  {
   "cell_type": "code",
   "execution_count": 6,
   "id": "42521a7b",
   "metadata": {},
   "outputs": [],
   "source": [
    "df_google['Year'] = df_google['Date'].dt.year"
   ]
  },
  {
   "cell_type": "code",
   "execution_count": 7,
   "id": "be514a53",
   "metadata": {},
   "outputs": [
    {
     "data": {
      "text/plain": [
       "Date         datetime64[ns]\n",
       "Open                float64\n",
       "High                float64\n",
       "Low                 float64\n",
       "Close               float64\n",
       "Adj Close           float64\n",
       "Volume                int64\n",
       "Year                  int64\n",
       "dtype: object"
      ]
     },
     "execution_count": 7,
     "metadata": {},
     "output_type": "execute_result"
    }
   ],
   "source": [
    "df_google.dtypes"
   ]
  },
  {
   "cell_type": "code",
   "execution_count": 8,
   "id": "fcfeb5f0",
   "metadata": {
    "scrolled": true
   },
   "outputs": [
    {
     "data": {
      "text/html": [
       "<div>\n",
       "<style scoped>\n",
       "    .dataframe tbody tr th:only-of-type {\n",
       "        vertical-align: middle;\n",
       "    }\n",
       "\n",
       "    .dataframe tbody tr th {\n",
       "        vertical-align: top;\n",
       "    }\n",
       "\n",
       "    .dataframe thead th {\n",
       "        text-align: right;\n",
       "    }\n",
       "</style>\n",
       "<table border=\"1\" class=\"dataframe\">\n",
       "  <thead>\n",
       "    <tr style=\"text-align: right;\">\n",
       "      <th></th>\n",
       "      <th>Open</th>\n",
       "      <th>High</th>\n",
       "      <th>Low</th>\n",
       "      <th>Close</th>\n",
       "      <th>Adj Close</th>\n",
       "      <th>Volume</th>\n",
       "      <th>Year</th>\n",
       "    </tr>\n",
       "    <tr>\n",
       "      <th>Date</th>\n",
       "      <th></th>\n",
       "      <th></th>\n",
       "      <th></th>\n",
       "      <th></th>\n",
       "      <th></th>\n",
       "      <th></th>\n",
       "      <th></th>\n",
       "    </tr>\n",
       "  </thead>\n",
       "  <tbody>\n",
       "    <tr>\n",
       "      <th>2004-08-19</th>\n",
       "      <td>2.502503</td>\n",
       "      <td>2.604104</td>\n",
       "      <td>2.401401</td>\n",
       "      <td>2.511011</td>\n",
       "      <td>2.501941</td>\n",
       "      <td>893181924</td>\n",
       "      <td>2004</td>\n",
       "    </tr>\n",
       "    <tr>\n",
       "      <th>2004-08-20</th>\n",
       "      <td>2.527778</td>\n",
       "      <td>2.729730</td>\n",
       "      <td>2.515015</td>\n",
       "      <td>2.710460</td>\n",
       "      <td>2.700670</td>\n",
       "      <td>456686856</td>\n",
       "      <td>2004</td>\n",
       "    </tr>\n",
       "    <tr>\n",
       "      <th>2004-08-23</th>\n",
       "      <td>2.771522</td>\n",
       "      <td>2.839840</td>\n",
       "      <td>2.728979</td>\n",
       "      <td>2.737738</td>\n",
       "      <td>2.727849</td>\n",
       "      <td>365122512</td>\n",
       "      <td>2004</td>\n",
       "    </tr>\n",
       "    <tr>\n",
       "      <th>2004-08-24</th>\n",
       "      <td>2.783784</td>\n",
       "      <td>2.792793</td>\n",
       "      <td>2.591842</td>\n",
       "      <td>2.624374</td>\n",
       "      <td>2.614895</td>\n",
       "      <td>304946748</td>\n",
       "      <td>2004</td>\n",
       "    </tr>\n",
       "    <tr>\n",
       "      <th>2004-08-25</th>\n",
       "      <td>2.626627</td>\n",
       "      <td>2.702703</td>\n",
       "      <td>2.599600</td>\n",
       "      <td>2.652653</td>\n",
       "      <td>2.643072</td>\n",
       "      <td>183772044</td>\n",
       "      <td>2004</td>\n",
       "    </tr>\n",
       "  </tbody>\n",
       "</table>\n",
       "</div>"
      ],
      "text/plain": [
       "                Open      High       Low     Close  Adj Close     Volume  Year\n",
       "Date                                                                          \n",
       "2004-08-19  2.502503  2.604104  2.401401  2.511011   2.501941  893181924  2004\n",
       "2004-08-20  2.527778  2.729730  2.515015  2.710460   2.700670  456686856  2004\n",
       "2004-08-23  2.771522  2.839840  2.728979  2.737738   2.727849  365122512  2004\n",
       "2004-08-24  2.783784  2.792793  2.591842  2.624374   2.614895  304946748  2004\n",
       "2004-08-25  2.626627  2.702703  2.599600  2.652653   2.643072  183772044  2004"
      ]
     },
     "execution_count": 8,
     "metadata": {},
     "output_type": "execute_result"
    }
   ],
   "source": [
    "df_google.set_index('Date', inplace=True)\n",
    "df_google.head()"
   ]
  },
  {
   "cell_type": "code",
   "execution_count": 9,
   "id": "12e9fd57",
   "metadata": {},
   "outputs": [
    {
     "data": {
      "text/html": [
       "<div>\n",
       "<style scoped>\n",
       "    .dataframe tbody tr th:only-of-type {\n",
       "        vertical-align: middle;\n",
       "    }\n",
       "\n",
       "    .dataframe tbody tr th {\n",
       "        vertical-align: top;\n",
       "    }\n",
       "\n",
       "    .dataframe thead th {\n",
       "        text-align: right;\n",
       "    }\n",
       "</style>\n",
       "<table border=\"1\" class=\"dataframe\">\n",
       "  <thead>\n",
       "    <tr style=\"text-align: right;\">\n",
       "      <th></th>\n",
       "      <th>Open</th>\n",
       "      <th>High</th>\n",
       "      <th>Low</th>\n",
       "      <th>Adj Close</th>\n",
       "      <th>Volume</th>\n",
       "      <th>Year</th>\n",
       "    </tr>\n",
       "    <tr>\n",
       "      <th>Date</th>\n",
       "      <th></th>\n",
       "      <th></th>\n",
       "      <th></th>\n",
       "      <th></th>\n",
       "      <th></th>\n",
       "      <th></th>\n",
       "    </tr>\n",
       "  </thead>\n",
       "  <tbody>\n",
       "    <tr>\n",
       "      <th>2004-08-19</th>\n",
       "      <td>2.50</td>\n",
       "      <td>2.60</td>\n",
       "      <td>2.40</td>\n",
       "      <td>2.50</td>\n",
       "      <td>893181924</td>\n",
       "      <td>2004</td>\n",
       "    </tr>\n",
       "    <tr>\n",
       "      <th>2004-08-20</th>\n",
       "      <td>2.53</td>\n",
       "      <td>2.73</td>\n",
       "      <td>2.52</td>\n",
       "      <td>2.70</td>\n",
       "      <td>456686856</td>\n",
       "      <td>2004</td>\n",
       "    </tr>\n",
       "    <tr>\n",
       "      <th>2004-08-23</th>\n",
       "      <td>2.77</td>\n",
       "      <td>2.84</td>\n",
       "      <td>2.73</td>\n",
       "      <td>2.73</td>\n",
       "      <td>365122512</td>\n",
       "      <td>2004</td>\n",
       "    </tr>\n",
       "    <tr>\n",
       "      <th>2004-08-24</th>\n",
       "      <td>2.78</td>\n",
       "      <td>2.79</td>\n",
       "      <td>2.59</td>\n",
       "      <td>2.61</td>\n",
       "      <td>304946748</td>\n",
       "      <td>2004</td>\n",
       "    </tr>\n",
       "    <tr>\n",
       "      <th>2004-08-25</th>\n",
       "      <td>2.63</td>\n",
       "      <td>2.70</td>\n",
       "      <td>2.60</td>\n",
       "      <td>2.64</td>\n",
       "      <td>183772044</td>\n",
       "      <td>2004</td>\n",
       "    </tr>\n",
       "  </tbody>\n",
       "</table>\n",
       "</div>"
      ],
      "text/plain": [
       "            Open  High   Low  Adj Close     Volume  Year\n",
       "Date                                                    \n",
       "2004-08-19  2.50  2.60  2.40       2.50  893181924  2004\n",
       "2004-08-20  2.53  2.73  2.52       2.70  456686856  2004\n",
       "2004-08-23  2.77  2.84  2.73       2.73  365122512  2004\n",
       "2004-08-24  2.78  2.79  2.59       2.61  304946748  2004\n",
       "2004-08-25  2.63  2.70  2.60       2.64  183772044  2004"
      ]
     },
     "execution_count": 9,
     "metadata": {},
     "output_type": "execute_result"
    }
   ],
   "source": [
    "df_google.drop('Close', axis=1, inplace=True)\n",
    "\n",
    "df_google['Open'] = df_google['Open'].round(2)\n",
    "df_google['High'] = df_google['High'].round(2)\n",
    "df_google['Low'] = df_google['Low'].round(2)\n",
    "df_google['Adj Close'] = df_google['Adj Close'].round(2)\n",
    "\n",
    "df_google.head()"
   ]
  },
  {
   "cell_type": "code",
   "execution_count": 10,
   "id": "daa4b126",
   "metadata": {},
   "outputs": [
    {
     "data": {
      "text/html": [
       "<div>\n",
       "<style scoped>\n",
       "    .dataframe tbody tr th:only-of-type {\n",
       "        vertical-align: middle;\n",
       "    }\n",
       "\n",
       "    .dataframe tbody tr th {\n",
       "        vertical-align: top;\n",
       "    }\n",
       "\n",
       "    .dataframe thead th {\n",
       "        text-align: right;\n",
       "    }\n",
       "</style>\n",
       "<table border=\"1\" class=\"dataframe\">\n",
       "  <thead>\n",
       "    <tr style=\"text-align: right;\">\n",
       "      <th></th>\n",
       "      <th>Open</th>\n",
       "      <th>High</th>\n",
       "      <th>Low</th>\n",
       "      <th>Adj Close</th>\n",
       "      <th>Volume</th>\n",
       "      <th>Year</th>\n",
       "      <th>Price Change</th>\n",
       "    </tr>\n",
       "    <tr>\n",
       "      <th>Date</th>\n",
       "      <th></th>\n",
       "      <th></th>\n",
       "      <th></th>\n",
       "      <th></th>\n",
       "      <th></th>\n",
       "      <th></th>\n",
       "      <th></th>\n",
       "    </tr>\n",
       "  </thead>\n",
       "  <tbody>\n",
       "    <tr>\n",
       "      <th>2004-08-19</th>\n",
       "      <td>2.50</td>\n",
       "      <td>2.60</td>\n",
       "      <td>2.40</td>\n",
       "      <td>2.50</td>\n",
       "      <td>893181924</td>\n",
       "      <td>2004</td>\n",
       "      <td>0.00</td>\n",
       "    </tr>\n",
       "    <tr>\n",
       "      <th>2004-08-20</th>\n",
       "      <td>2.53</td>\n",
       "      <td>2.73</td>\n",
       "      <td>2.52</td>\n",
       "      <td>2.70</td>\n",
       "      <td>456686856</td>\n",
       "      <td>2004</td>\n",
       "      <td>0.17</td>\n",
       "    </tr>\n",
       "    <tr>\n",
       "      <th>2004-08-23</th>\n",
       "      <td>2.77</td>\n",
       "      <td>2.84</td>\n",
       "      <td>2.73</td>\n",
       "      <td>2.73</td>\n",
       "      <td>365122512</td>\n",
       "      <td>2004</td>\n",
       "      <td>-0.04</td>\n",
       "    </tr>\n",
       "    <tr>\n",
       "      <th>2004-08-24</th>\n",
       "      <td>2.78</td>\n",
       "      <td>2.79</td>\n",
       "      <td>2.59</td>\n",
       "      <td>2.61</td>\n",
       "      <td>304946748</td>\n",
       "      <td>2004</td>\n",
       "      <td>-0.17</td>\n",
       "    </tr>\n",
       "    <tr>\n",
       "      <th>2004-08-25</th>\n",
       "      <td>2.63</td>\n",
       "      <td>2.70</td>\n",
       "      <td>2.60</td>\n",
       "      <td>2.64</td>\n",
       "      <td>183772044</td>\n",
       "      <td>2004</td>\n",
       "      <td>0.01</td>\n",
       "    </tr>\n",
       "  </tbody>\n",
       "</table>\n",
       "</div>"
      ],
      "text/plain": [
       "            Open  High   Low  Adj Close     Volume  Year  Price Change\n",
       "Date                                                                  \n",
       "2004-08-19  2.50  2.60  2.40       2.50  893181924  2004          0.00\n",
       "2004-08-20  2.53  2.73  2.52       2.70  456686856  2004          0.17\n",
       "2004-08-23  2.77  2.84  2.73       2.73  365122512  2004         -0.04\n",
       "2004-08-24  2.78  2.79  2.59       2.61  304946748  2004         -0.17\n",
       "2004-08-25  2.63  2.70  2.60       2.64  183772044  2004          0.01"
      ]
     },
     "execution_count": 10,
     "metadata": {},
     "output_type": "execute_result"
    }
   ],
   "source": [
    "df_google['Price Change'] = df_google['Adj Close'] - df_google['Open']\n",
    "df_google.head()"
   ]
  },
  {
   "cell_type": "code",
   "execution_count": 11,
   "id": "1eb99dae",
   "metadata": {},
   "outputs": [
    {
     "data": {
      "image/png": "[encoded data removed]",
      "text/plain": [
       "<Figure size 640x480 with 1 Axes>"
      ]
     },
     "metadata": {},
     "output_type": "display_data"
    }
   ],
   "source": [
    "sns.scatterplot(data=df_google, x='Adj Close', y='Volume')\n",
    "plt.xlabel('Adjusted Closing Price')\n",
    "plt.ylabel('Volume of Trade')\n",
    "plt.show()"
   ]
  },
  {
   "cell_type": "code",
   "execution_count": 12,
   "id": "ff434585",
   "metadata": {},
   "outputs": [
    {
     "data": {
      "image/png": "[encoded data removed]",
      "text/plain": [
       "<Figure size 640x480 with 1 Axes>"
      ]
     },
     "metadata": {},
     "output_type": "display_data"
    }
   ],
   "source": [
    "sns.scatterplot(data=df_google, x='Price Change', y='Volume', color='Orange')\n",
    "plt.xlabel('Daily Price Change')\n",
    "plt.ylabel('Volume of Trade')\n",
    "plt.show()"
   ]
  },
  {
   "cell_type": "code",
   "execution_count": 13,
   "id": "ded20152",
   "metadata": {},
   "outputs": [
    {
     "data": {
      "text/html": [
       "<div>\n",
       "<style scoped>\n",
       "    .dataframe tbody tr th:only-of-type {\n",
       "        vertical-align: middle;\n",
       "    }\n",
       "\n",
       "    .dataframe tbody tr th {\n",
       "        vertical-align: top;\n",
       "    }\n",
       "\n",
       "    .dataframe thead th {\n",
       "        text-align: right;\n",
       "    }\n",
       "</style>\n",
       "<table border=\"1\" class=\"dataframe\">\n",
       "  <thead>\n",
       "    <tr style=\"text-align: right;\">\n",
       "      <th></th>\n",
       "      <th>Open</th>\n",
       "      <th>High</th>\n",
       "      <th>Low</th>\n",
       "      <th>Adj Close</th>\n",
       "      <th>Year</th>\n",
       "      <th>Price Change</th>\n",
       "      <th>ln(Volume)</th>\n",
       "    </tr>\n",
       "    <tr>\n",
       "      <th>Date</th>\n",
       "      <th></th>\n",
       "      <th></th>\n",
       "      <th></th>\n",
       "      <th></th>\n",
       "      <th></th>\n",
       "      <th></th>\n",
       "      <th></th>\n",
       "    </tr>\n",
       "  </thead>\n",
       "  <tbody>\n",
       "    <tr>\n",
       "      <th>2004-08-19</th>\n",
       "      <td>2.50</td>\n",
       "      <td>2.60</td>\n",
       "      <td>2.40</td>\n",
       "      <td>2.50</td>\n",
       "      <td>2004</td>\n",
       "      <td>0.00</td>\n",
       "      <td>20.610301</td>\n",
       "    </tr>\n",
       "    <tr>\n",
       "      <th>2004-08-20</th>\n",
       "      <td>2.53</td>\n",
       "      <td>2.73</td>\n",
       "      <td>2.52</td>\n",
       "      <td>2.70</td>\n",
       "      <td>2004</td>\n",
       "      <td>0.17</td>\n",
       "      <td>19.939508</td>\n",
       "    </tr>\n",
       "    <tr>\n",
       "      <th>2004-08-23</th>\n",
       "      <td>2.77</td>\n",
       "      <td>2.84</td>\n",
       "      <td>2.73</td>\n",
       "      <td>2.73</td>\n",
       "      <td>2004</td>\n",
       "      <td>-0.04</td>\n",
       "      <td>19.715744</td>\n",
       "    </tr>\n",
       "    <tr>\n",
       "      <th>2004-08-24</th>\n",
       "      <td>2.78</td>\n",
       "      <td>2.79</td>\n",
       "      <td>2.59</td>\n",
       "      <td>2.61</td>\n",
       "      <td>2004</td>\n",
       "      <td>-0.17</td>\n",
       "      <td>19.535648</td>\n",
       "    </tr>\n",
       "    <tr>\n",
       "      <th>2004-08-25</th>\n",
       "      <td>2.63</td>\n",
       "      <td>2.70</td>\n",
       "      <td>2.60</td>\n",
       "      <td>2.64</td>\n",
       "      <td>2004</td>\n",
       "      <td>0.01</td>\n",
       "      <td>19.029207</td>\n",
       "    </tr>\n",
       "  </tbody>\n",
       "</table>\n",
       "</div>"
      ],
      "text/plain": [
       "            Open  High   Low  Adj Close  Year  Price Change  ln(Volume)\n",
       "Date                                                                   \n",
       "2004-08-19  2.50  2.60  2.40       2.50  2004          0.00   20.610301\n",
       "2004-08-20  2.53  2.73  2.52       2.70  2004          0.17   19.939508\n",
       "2004-08-23  2.77  2.84  2.73       2.73  2004         -0.04   19.715744\n",
       "2004-08-24  2.78  2.79  2.59       2.61  2004         -0.17   19.535648\n",
       "2004-08-25  2.63  2.70  2.60       2.64  2004          0.01   19.029207"
      ]
     },
     "execution_count": 13,
     "metadata": {},
     "output_type": "execute_result"
    }
   ],
   "source": [
    "df_google['ln(Volume)'] = np.log(df_google['Volume'])\n",
    "df_google.drop('Volume', axis=1, inplace=True)\n",
    "df_google.head()"
   ]
  },
  {
   "cell_type": "code",
   "execution_count": 14,
   "id": "67c3c802",
   "metadata": {},
   "outputs": [
    {
     "data": {
      "image/png": "[encoded data removed]",
      "text/plain": [
       "<Figure size 640x480 with 1 Axes>"
      ]
     },
     "metadata": {},
     "output_type": "display_data"
    }
   ],
   "source": [
    "sns.lineplot(x='Year', y='ln(Volume)', data = df_google)\n",
    "plt.gca().xaxis.set_major_locator(plt.MaxNLocator(integer=True))\n",
    "plt.show()"
   ]
  },
  {
   "cell_type": "code",
   "execution_count": 15,
   "id": "a94ea8c0",
   "metadata": {},
   "outputs": [
    {
     "data": {
      "text/html": [
       "<div>\n",
       "<style scoped>\n",
       "    .dataframe tbody tr th:only-of-type {\n",
       "        vertical-align: middle;\n",
       "    }\n",
       "\n",
       "    .dataframe tbody tr th {\n",
       "        vertical-align: top;\n",
       "    }\n",
       "\n",
       "    .dataframe thead th {\n",
       "        text-align: right;\n",
       "    }\n",
       "</style>\n",
       "<table border=\"1\" class=\"dataframe\">\n",
       "  <thead>\n",
       "    <tr style=\"text-align: right;\">\n",
       "      <th></th>\n",
       "      <th>Open</th>\n",
       "      <th>High</th>\n",
       "      <th>Low</th>\n",
       "      <th>Adj Close</th>\n",
       "      <th>Year</th>\n",
       "      <th>Price Change</th>\n",
       "      <th>ln(Volume)</th>\n",
       "      <th>Price Direction</th>\n",
       "    </tr>\n",
       "    <tr>\n",
       "      <th>Date</th>\n",
       "      <th></th>\n",
       "      <th></th>\n",
       "      <th></th>\n",
       "      <th></th>\n",
       "      <th></th>\n",
       "      <th></th>\n",
       "      <th></th>\n",
       "      <th></th>\n",
       "    </tr>\n",
       "  </thead>\n",
       "  <tbody>\n",
       "    <tr>\n",
       "      <th>2004-08-19</th>\n",
       "      <td>2.50</td>\n",
       "      <td>2.60</td>\n",
       "      <td>2.40</td>\n",
       "      <td>2.50</td>\n",
       "      <td>2004</td>\n",
       "      <td>0.00</td>\n",
       "      <td>20.610301</td>\n",
       "      <td>No Change</td>\n",
       "    </tr>\n",
       "    <tr>\n",
       "      <th>2004-08-20</th>\n",
       "      <td>2.53</td>\n",
       "      <td>2.73</td>\n",
       "      <td>2.52</td>\n",
       "      <td>2.70</td>\n",
       "      <td>2004</td>\n",
       "      <td>0.17</td>\n",
       "      <td>19.939508</td>\n",
       "      <td>Price Increase</td>\n",
       "    </tr>\n",
       "    <tr>\n",
       "      <th>2004-08-23</th>\n",
       "      <td>2.77</td>\n",
       "      <td>2.84</td>\n",
       "      <td>2.73</td>\n",
       "      <td>2.73</td>\n",
       "      <td>2004</td>\n",
       "      <td>-0.04</td>\n",
       "      <td>19.715744</td>\n",
       "      <td>Price Decrease</td>\n",
       "    </tr>\n",
       "    <tr>\n",
       "      <th>2004-08-24</th>\n",
       "      <td>2.78</td>\n",
       "      <td>2.79</td>\n",
       "      <td>2.59</td>\n",
       "      <td>2.61</td>\n",
       "      <td>2004</td>\n",
       "      <td>-0.17</td>\n",
       "      <td>19.535648</td>\n",
       "      <td>Price Decrease</td>\n",
       "    </tr>\n",
       "    <tr>\n",
       "      <th>2004-08-25</th>\n",
       "      <td>2.63</td>\n",
       "      <td>2.70</td>\n",
       "      <td>2.60</td>\n",
       "      <td>2.64</td>\n",
       "      <td>2004</td>\n",
       "      <td>0.01</td>\n",
       "      <td>19.029207</td>\n",
       "      <td>Price Increase</td>\n",
       "    </tr>\n",
       "  </tbody>\n",
       "</table>\n",
       "</div>"
      ],
      "text/plain": [
       "            Open  High   Low  Adj Close  Year  Price Change  ln(Volume)  \\\n",
       "Date                                                                      \n",
       "2004-08-19  2.50  2.60  2.40       2.50  2004          0.00   20.610301   \n",
       "2004-08-20  2.53  2.73  2.52       2.70  2004          0.17   19.939508   \n",
       "2004-08-23  2.77  2.84  2.73       2.73  2004         -0.04   19.715744   \n",
       "2004-08-24  2.78  2.79  2.59       2.61  2004         -0.17   19.535648   \n",
       "2004-08-25  2.63  2.70  2.60       2.64  2004          0.01   19.029207   \n",
       "\n",
       "           Price Direction  \n",
       "Date                        \n",
       "2004-08-19       No Change  \n",
       "2004-08-20  Price Increase  \n",
       "2004-08-23  Price Decrease  \n",
       "2004-08-24  Price Decrease  \n",
       "2004-08-25  Price Increase  "
      ]
     },
     "execution_count": 15,
     "metadata": {},
     "output_type": "execute_result"
    }
   ],
   "source": [
    "df_google['Price Direction'] = np.where(df_google['Price Change'] > 0, 'Price Increase', \n",
    "                                      np.where(df_google['Price Change'] < 0, 'Price Decrease', 'No Change'))\n",
    "df_google.head()"
   ]
  },
  {
   "cell_type": "code",
   "execution_count": 16,
   "id": "ac75585f",
   "metadata": {},
   "outputs": [
    {
     "name": "stdout",
     "output_type": "stream",
     "text": [
      "Price Decrease    3126\n",
      "Price Increase    1907\n",
      "No Change           85\n",
      "Name: Price Direction, dtype: int64\n"
     ]
    }
   ],
   "source": [
    "counts = df_google['Price Direction'].value_counts()\n",
    "print(counts)"
   ]
  },
  {
   "cell_type": "code",
   "execution_count": 17,
   "id": "5a1359c2",
   "metadata": {},
   "outputs": [
    {
     "data": {
      "image/png": "[encoded data removed]",
      "text/plain": [
       "<Figure size 640x480 with 1 Axes>"
      ]
     },
     "metadata": {},
     "output_type": "display_data"
    }
   ],
   "source": [
    "sns.countplot(data=df_google, x='Price Direction')\n",
    "plt.ylabel('Count')\n",
    "plt.show()"
   ]
  },
  {
   "cell_type": "code",
   "execution_count": 18,
   "id": "4b15b355",
   "metadata": {},
   "outputs": [],
   "source": [
    "x = df_google[['Open', 'Adj Close', 'High', 'Low']]\n",
    "y = df_google['ln(Volume)']"
   ]
  },
  {
   "cell_type": "code",
   "execution_count": 19,
   "id": "2a719bc5",
   "metadata": {},
   "outputs": [],
   "source": [
    "x_train, x_test, y_train, y_test = train_test_split(x, y, test_size=0.2, random_state=0)"
   ]
  },
  {
   "cell_type": "code",
   "execution_count": 20,
   "id": "d1d836fa",
   "metadata": {},
   "outputs": [
    {
     "data": {
      "text/html": [
       "<style>#sk-container-id-1 {color: black;background-color: white;}#sk-container-id-1 pre{padding: 0;}#sk-container-id-1 div.sk-toggleable {background-color: white;}#sk-container-id-1 label.sk-toggleable__label {cursor: pointer;display: block;width: 100%;margin-bottom: 0;padding: 0.3em;box-sizing: border-box;text-align: center;}#sk-container-id-1 label.sk-toggleable__label-arrow:before {content: \"▸\";float: left;margin-right: 0.25em;color: #696969;}#sk-container-id-1 label.sk-toggleable__label-arrow:hover:before {color: black;}#sk-container-id-1 div.sk-estimator:hover label.sk-toggleable__label-arrow:before {color: black;}#sk-container-id-1 div.sk-toggleable__content {max-height: 0;max-width: 0;overflow: hidden;text-align: left;background-color: #f0f8ff;}#sk-container-id-1 div.sk-toggleable__content pre {margin: 0.2em;color: black;border-radius: 0.25em;background-color: #f0f8ff;}#sk-container-id-1 input.sk-toggleable__control:checked~div.sk-toggleable__content {max-height: 200px;max-width: 100%;overflow: auto;}#sk-container-id-1 input.sk-toggleable__control:checked~label.sk-toggleable__label-arrow:before {content: \"▾\";}#sk-container-id-1 div.sk-estimator input.sk-toggleable__control:checked~label.sk-toggleable__label {background-color: #d4ebff;}#sk-container-id-1 div.sk-label input.sk-toggleable__control:checked~label.sk-toggleable__label {background-color: #d4ebff;}#sk-container-id-1 input.sk-hidden--visually {border: 0;clip: rect(1px 1px 1px 1px);clip: rect(1px, 1px, 1px, 1px);height: 1px;margin: -1px;overflow: hidden;padding: 0;position: absolute;width: 1px;}#sk-container-id-1 div.sk-estimator {font-family: monospace;background-color: #f0f8ff;border: 1px dotted black;border-radius: 0.25em;box-sizing: border-box;margin-bottom: 0.5em;}#sk-container-id-1 div.sk-estimator:hover {background-color: #d4ebff;}#sk-container-id-1 div.sk-parallel-item::after {content: \"\";width: 100%;border-bottom: 1px solid gray;flex-grow: 1;}#sk-container-id-1 div.sk-label:hover label.sk-toggleable__label {background-color: #d4ebff;}#sk-container-id-1 div.sk-serial::before {content: \"\";position: absolute;border-left: 1px solid gray;box-sizing: border-box;top: 0;bottom: 0;left: 50%;z-index: 0;}#sk-container-id-1 div.sk-serial {display: flex;flex-direction: column;align-items: center;background-color: white;padding-right: 0.2em;padding-left: 0.2em;position: relative;}#sk-container-id-1 div.sk-item {position: relative;z-index: 1;}#sk-container-id-1 div.sk-parallel {display: flex;align-items: stretch;justify-content: center;background-color: white;position: relative;}#sk-container-id-1 div.sk-item::before, #sk-container-id-1 div.sk-parallel-item::before {content: \"\";position: absolute;border-left: 1px solid gray;box-sizing: border-box;top: 0;bottom: 0;left: 50%;z-index: -1;}#sk-container-id-1 div.sk-parallel-item {display: flex;flex-direction: column;z-index: 1;position: relative;background-color: white;}#sk-container-id-1 div.sk-parallel-item:first-child::after {align-self: flex-end;width: 50%;}#sk-container-id-1 div.sk-parallel-item:last-child::after {align-self: flex-start;width: 50%;}#sk-container-id-1 div.sk-parallel-item:only-child::after {width: 0;}#sk-container-id-1 div.sk-dashed-wrapped {border: 1px dashed gray;margin: 0 0.4em 0.5em 0.4em;box-sizing: border-box;padding-bottom: 0.4em;background-color: white;}#sk-container-id-1 div.sk-label label {font-family: monospace;font-weight: bold;display: inline-block;line-height: 1.2em;}#sk-container-id-1 div.sk-label-container {text-align: center;}#sk-container-id-1 div.sk-container {/* jupyter's `normalize.less` sets `[hidden] { display: none; }` but bootstrap.min.css set `[hidden] { display: none !important; }` so we also need the `!important` here to be able to override the default hidden behavior on the sphinx rendered scikit-learn.org. See: https://github.com/scikit-learn/scikit-learn/issues/21755 */display: inline-block !important;position: relative;}#sk-container-id-1 div.sk-text-repr-fallback {display: none;}</style><div id=\"sk-container-id-1\" class=\"sk-top-container\"><div class=\"sk-text-repr-fallback\"><pre>LinearRegression()</pre><b>In a Jupyter environment, please rerun this cell to show the HTML representation or trust the notebook. <br />On GitHub, the HTML representation is unable to render, please try loading this page with nbviewer.org.</b></div><div class=\"sk-container\" hidden><div class=\"sk-item\"><div class=\"sk-estimator sk-toggleable\"><input class=\"sk-toggleable__control sk-hidden--visually\" id=\"sk-estimator-id-1\" type=\"checkbox\" checked><label for=\"sk-estimator-id-1\" class=\"sk-toggleable__label sk-toggleable__label-arrow\">LinearRegression</label><div class=\"sk-toggleable__content\"><pre>LinearRegression()</pre></div></div></div></div></div>"
      ],
      "text/plain": [
       "LinearRegression()"
      ]
     },
     "execution_count": 20,
     "metadata": {},
     "output_type": "execute_result"
    }
   ],
   "source": [
    "regressor = LinearRegression()\n",
    "regressor.fit(x_train, y_train)"
   ]
  },
  {
   "cell_type": "code",
   "execution_count": 21,
   "id": "c886f02c",
   "metadata": {},
   "outputs": [
    {
     "data": {
      "text/html": [
       "<div>\n",
       "<style scoped>\n",
       "    .dataframe tbody tr th:only-of-type {\n",
       "        vertical-align: middle;\n",
       "    }\n",
       "\n",
       "    .dataframe tbody tr th {\n",
       "        vertical-align: top;\n",
       "    }\n",
       "\n",
       "    .dataframe thead th {\n",
       "        text-align: right;\n",
       "    }\n",
       "</style>\n",
       "<table border=\"1\" class=\"dataframe\">\n",
       "  <thead>\n",
       "    <tr style=\"text-align: right;\">\n",
       "      <th></th>\n",
       "      <th>Coefficient</th>\n",
       "    </tr>\n",
       "  </thead>\n",
       "  <tbody>\n",
       "    <tr>\n",
       "      <th>Open</th>\n",
       "      <td>0.023259</td>\n",
       "    </tr>\n",
       "    <tr>\n",
       "      <th>Adj Close</th>\n",
       "      <td>0.034501</td>\n",
       "    </tr>\n",
       "    <tr>\n",
       "      <th>High</th>\n",
       "      <td>0.290739</td>\n",
       "    </tr>\n",
       "    <tr>\n",
       "      <th>Low</th>\n",
       "      <td>-0.369264</td>\n",
       "    </tr>\n",
       "  </tbody>\n",
       "</table>\n",
       "</div>"
      ],
      "text/plain": [
       "           Coefficient\n",
       "Open          0.023259\n",
       "Adj Close     0.034501\n",
       "High          0.290739\n",
       "Low          -0.369264"
      ]
     },
     "execution_count": 21,
     "metadata": {},
     "output_type": "execute_result"
    }
   ],
   "source": [
    "coeff_df_google = pd.DataFrame(regressor.coef_, x.columns, columns=['Coefficient'])\n",
    "coeff_df_google"
   ]
  },
  {
   "cell_type": "code",
   "execution_count": 22,
   "id": "8e4b8b14",
   "metadata": {},
   "outputs": [],
   "source": [
    "y_pred = regressor.predict(x_test)"
   ]
  },
  {
   "cell_type": "code",
   "execution_count": 23,
   "id": "bcd5e953",
   "metadata": {},
   "outputs": [
    {
     "data": {
      "text/html": [
       "<div>\n",
       "<style scoped>\n",
       "    .dataframe tbody tr th:only-of-type {\n",
       "        vertical-align: middle;\n",
       "    }\n",
       "\n",
       "    .dataframe tbody tr th {\n",
       "        vertical-align: top;\n",
       "    }\n",
       "\n",
       "    .dataframe thead th {\n",
       "        text-align: right;\n",
       "    }\n",
       "</style>\n",
       "<table border=\"1\" class=\"dataframe\">\n",
       "  <thead>\n",
       "    <tr style=\"text-align: right;\">\n",
       "      <th></th>\n",
       "      <th>Actual ln(Volume)</th>\n",
       "      <th>Predicted ln(Volume)</th>\n",
       "    </tr>\n",
       "    <tr>\n",
       "      <th>Date</th>\n",
       "      <th></th>\n",
       "      <th></th>\n",
       "    </tr>\n",
       "  </thead>\n",
       "  <tbody>\n",
       "    <tr>\n",
       "      <th>2004-10-19</th>\n",
       "      <td>19.707700</td>\n",
       "      <td>18.677958</td>\n",
       "    </tr>\n",
       "    <tr>\n",
       "      <th>2014-01-14</th>\n",
       "      <td>18.412696</td>\n",
       "      <td>18.318009</td>\n",
       "    </tr>\n",
       "    <tr>\n",
       "      <th>2011-12-23</th>\n",
       "      <td>17.877502</td>\n",
       "      <td>18.420510</td>\n",
       "    </tr>\n",
       "    <tr>\n",
       "      <th>2015-02-25</th>\n",
       "      <td>17.525075</td>\n",
       "      <td>18.341114</td>\n",
       "    </tr>\n",
       "    <tr>\n",
       "      <th>2009-08-24</th>\n",
       "      <td>18.400864</td>\n",
       "      <td>18.521522</td>\n",
       "    </tr>\n",
       "    <tr>\n",
       "      <th>2013-11-29</th>\n",
       "      <td>17.679693</td>\n",
       "      <td>18.218209</td>\n",
       "    </tr>\n",
       "    <tr>\n",
       "      <th>2022-04-25</th>\n",
       "      <td>17.646931</td>\n",
       "      <td>17.799672</td>\n",
       "    </tr>\n",
       "    <tr>\n",
       "      <th>2019-03-06</th>\n",
       "      <td>16.976842</td>\n",
       "      <td>17.688326</td>\n",
       "    </tr>\n",
       "    <tr>\n",
       "      <th>2015-11-25</th>\n",
       "      <td>16.977266</td>\n",
       "      <td>18.020418</td>\n",
       "    </tr>\n",
       "    <tr>\n",
       "      <th>2010-12-15</th>\n",
       "      <td>18.277056</td>\n",
       "      <td>18.469330</td>\n",
       "    </tr>\n",
       "  </tbody>\n",
       "</table>\n",
       "</div>"
      ],
      "text/plain": [
       "            Actual ln(Volume)  Predicted ln(Volume)\n",
       "Date                                               \n",
       "2004-10-19          19.707700             18.677958\n",
       "2014-01-14          18.412696             18.318009\n",
       "2011-12-23          17.877502             18.420510\n",
       "2015-02-25          17.525075             18.341114\n",
       "2009-08-24          18.400864             18.521522\n",
       "2013-11-29          17.679693             18.218209\n",
       "2022-04-25          17.646931             17.799672\n",
       "2019-03-06          16.976842             17.688326\n",
       "2015-11-25          16.977266             18.020418\n",
       "2010-12-15          18.277056             18.469330"
      ]
     },
     "execution_count": 23,
     "metadata": {},
     "output_type": "execute_result"
    }
   ],
   "source": [
    "df_actual_vs_predicted_log_volume = pd.DataFrame({'Actual ln(Volume)': y_test, 'Predicted ln(Volume)': y_pred})\n",
    "df_actual_vs_predicted_log_volume.head(10)"
   ]
  },
  {
   "cell_type": "code",
   "execution_count": 24,
   "id": "50333d07",
   "metadata": {},
   "outputs": [
    {
     "name": "stdout",
     "output_type": "stream",
     "text": [
      "Mean Absolute Error: 0.5536761808198194\n",
      "Mean Squared Error: 0.4657229123254925\n",
      "Root Mean Squared Error: 0.6824389440275903\n"
     ]
    }
   ],
   "source": [
    "print('Mean Absolute Error:', metrics.mean_absolute_error(y_test, y_pred))\n",
    "print('Mean Squared Error:', metrics.mean_squared_error(y_test, y_pred))\n",
    "print('Root Mean Squared Error:', np.sqrt(metrics.mean_squared_error(y_test, y_pred)))"
   ]
  },
  {
   "cell_type": "code",
   "execution_count": 25,
   "id": "81600a54",
   "metadata": {},
   "outputs": [
    {
     "name": "stdout",
     "output_type": "stream",
     "text": [
      "Coefficient of Determination: 0.5053609378319392\n"
     ]
    }
   ],
   "source": [
    "r_squared = regressor.score(x_test, y_test)\n",
    "print('Coefficient of Determination:', r_squared)"
   ]
  },
  {
   "cell_type": "code",
   "execution_count": 26,
   "id": "1d28c008",
   "metadata": {},
   "outputs": [
    {
     "name": "stdout",
     "output_type": "stream",
     "text": [
      "Intercept: 18.7178313198593\n"
     ]
    }
   ],
   "source": [
    "print('Intercept:', regressor.intercept_)"
   ]
  }
 ],
 "metadata": {
  "kernelspec": {
   "display_name": "Python 3 (ipykernel)",
   "language": "python",
   "name": "python3"
  },
  "language_info": {
   "codemirror_mode": {
    "name": "ipython",
    "version": 3
   },
   "file_extension": ".py",
   "mimetype": "text/x-python",
   "name": "python",
   "nbconvert_exporter": "python",
   "pygments_lexer": "ipython3",
   "version": "3.10.9"
  }
 },
 "nbformat": 4,
 "nbformat_minor": 5
}
